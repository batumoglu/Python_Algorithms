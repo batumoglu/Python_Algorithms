{
 "cells": [
  {
   "cell_type": "code",
   "execution_count": 1,
   "metadata": {},
   "outputs": [],
   "source": [
    "def bubble_sort(arr):\n",
    "    \"\"\"\n",
    "    Iterate by considering two elements if first is smaller swap them\n",
    "    Many number of swaps are needed\n",
    "    \"\"\"\n",
    "    for i in range(len(arr)-1, 0, -1):\n",
    "        for j in range(i):\n",
    "            if arr[j] > arr[j+1]:\n",
    "                temp = arr[j]\n",
    "                arr[j] = arr[j+1]\n",
    "                arr[j+1] = temp\n",
    "    return arr"
   ]
  },
  {
   "cell_type": "code",
   "execution_count": 2,
   "metadata": {},
   "outputs": [
    {
     "data": {
      "text/plain": [
       "[1, 2, 3, 4, 5, 6, 7, 8, 13, 20]"
      ]
     },
     "execution_count": 2,
     "metadata": {},
     "output_type": "execute_result"
    }
   ],
   "source": [
    "arr = [3,2,13,4,6,5,7,8,1,20]\n",
    "bubble_sort(arr)"
   ]
  },
  {
   "cell_type": "code",
   "execution_count": 3,
   "metadata": {},
   "outputs": [],
   "source": [
    "def selection_sort(arr):\n",
    "    \"\"\"\n",
    "    Iterate and look for minimum then swap it with current element\n",
    "    Less number of swaps are needed\n",
    "    \"\"\"\n",
    "    for i in range(len(arr)):\n",
    "        curMin = arr[i]\n",
    "        locMin = i\n",
    "        for j in range(i,len(arr)):\n",
    "            if arr[j] <= curMin:\n",
    "                curMin = arr[j]\n",
    "                locMin = j\n",
    "        temp = arr[locMin]\n",
    "        arr[locMin] = arr[i]\n",
    "        arr[i] = temp\n",
    "    return arr"
   ]
  },
  {
   "cell_type": "code",
   "execution_count": 4,
   "metadata": {},
   "outputs": [
    {
     "data": {
      "text/plain": [
       "[1, 2, 3, 4, 5, 6, 7, 8, 13, 20]"
      ]
     },
     "execution_count": 4,
     "metadata": {},
     "output_type": "execute_result"
    }
   ],
   "source": [
    "arr = [3,2,13,4,6,5,7,8,1,20]\n",
    "selection_sort(arr)"
   ]
  },
  {
   "cell_type": "code",
   "execution_count": 5,
   "metadata": {},
   "outputs": [],
   "source": [
    "def insertion_sort(arr):    \n",
    "    \"\"\"\n",
    "    for each element find the correct interval and insert item there\n",
    "    \"\"\"\n",
    "    for i in range(1, len(arr)):    \n",
    "        curVal = arr[i]\n",
    "        curLoc = i\n",
    "\n",
    "        while curLoc > 0 and arr[curLoc-1] > curVal:\n",
    "            arr[curLoc] = arr[curLoc-1]\n",
    "            curLoc = curLoc - 1\n",
    "\n",
    "        arr[curLoc] = curVal    \n",
    "    return arr"
   ]
  },
  {
   "cell_type": "code",
   "execution_count": 6,
   "metadata": {},
   "outputs": [
    {
     "data": {
      "text/plain": [
       "[1, 2, 3, 4, 5, 6, 7, 8, 13, 20]"
      ]
     },
     "execution_count": 6,
     "metadata": {},
     "output_type": "execute_result"
    }
   ],
   "source": [
    "arr = [3,2,13,4,6,5,7,8,1,20]\n",
    "insertion_sort(arr)"
   ]
  },
  {
   "cell_type": "code",
   "execution_count": 19,
   "metadata": {},
   "outputs": [],
   "source": [
    "def shell_short(arr):\n",
    "    \"\"\"\n",
    "    Instead of taking one item to compare create sublist and compare them in that list\n",
    "    \"\"\"\n",
    "    sublistcount = int(len(arr)/2)\n",
    "    \n",
    "    while sublistcount > 0:\n",
    "        for start in range(sublistcount):\n",
    "            gap_insertion_sort(arr, start, sublistcount)\n",
    "        print('After increment of size: ', sublistcount)\n",
    "        print('The list is: ',arr)\n",
    "        sublistcount = int(sublistcount/2)\n",
    "    return arr\n",
    "\n",
    "def gap_insertion_sort(arr, start, gap):\n",
    "    for i in range(start+gap, len(arr), gap):\n",
    "        curVal = arr[i]\n",
    "        curLoc = i\n",
    "        \n",
    "        while curLoc >= gap and arr[curLoc-gap] > curVal:\n",
    "            arr[curLoc] = arr[curLoc-gap]\n",
    "            curLoc = curLoc - gap\n",
    "        arr[curLoc] = curVal"
   ]
  },
  {
   "cell_type": "code",
   "execution_count": 20,
   "metadata": {},
   "outputs": [
    {
     "name": "stdout",
     "output_type": "stream",
     "text": [
      "After increment of size:  5\n",
      "The list is:  [3, 2, 8, 1, 6, 5, 7, 13, 4, 20]\n",
      "After increment of size:  2\n",
      "The list is:  [3, 1, 4, 2, 6, 5, 7, 13, 8, 20]\n",
      "After increment of size:  1\n",
      "The list is:  [1, 2, 3, 4, 5, 6, 7, 8, 13, 20]\n"
     ]
    },
    {
     "data": {
      "text/plain": [
       "[1, 2, 3, 4, 5, 6, 7, 8, 13, 20]"
      ]
     },
     "execution_count": 20,
     "metadata": {},
     "output_type": "execute_result"
    }
   ],
   "source": [
    "arr = [3,2,13,4,6,5,7,8,1,20]\n",
    "shell_short(arr)"
   ]
  }
 ],
 "metadata": {
  "kernelspec": {
   "display_name": "Python 3",
   "language": "python",
   "name": "python3"
  },
  "language_info": {
   "codemirror_mode": {
    "name": "ipython",
    "version": 3
   },
   "file_extension": ".py",
   "mimetype": "text/x-python",
   "name": "python",
   "nbconvert_exporter": "python",
   "pygments_lexer": "ipython3",
   "version": "3.7.3"
  }
 },
 "nbformat": 4,
 "nbformat_minor": 2
}
