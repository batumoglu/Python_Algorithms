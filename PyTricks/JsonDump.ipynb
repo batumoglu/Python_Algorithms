{
 "cells": [
  {
   "cell_type": "markdown",
   "metadata": {},
   "source": [
    "### Format dictionary output"
   ]
  },
  {
   "cell_type": "code",
   "execution_count": 2,
   "metadata": {},
   "outputs": [
    {
     "data": {
      "text/plain": [
       "{'a': 23, 'b': 42, 'c': 12648430}"
      ]
     },
     "execution_count": 2,
     "metadata": {},
     "output_type": "execute_result"
    }
   ],
   "source": [
    "my_mapping = {'a':23, 'b':42, 'c':0xc0ffee}\n",
    "my_mapping"
   ]
  },
  {
   "cell_type": "code",
   "execution_count": 4,
   "metadata": {},
   "outputs": [
    {
     "name": "stdout",
     "output_type": "stream",
     "text": [
      "{\n",
      "    \"a\": 23,\n",
      "    \"b\": 42,\n",
      "    \"c\": 12648430\n",
      "}\n"
     ]
    }
   ],
   "source": [
    "import json\n",
    "print(json.dumps(my_mapping, indent=4, sort_keys=True))"
   ]
  },
  {
   "cell_type": "markdown",
   "metadata": {},
   "source": [
    "### Access to keys and values of dictionary"
   ]
  },
  {
   "cell_type": "code",
   "execution_count": 7,
   "metadata": {},
   "outputs": [],
   "source": [
    "sample = {'color':'red', 'fruit':'apple', 'species':'dog'}"
   ]
  },
  {
   "cell_type": "code",
   "execution_count": 8,
   "metadata": {},
   "outputs": [
    {
     "data": {
      "text/plain": [
       "'red'"
      ]
     },
     "execution_count": 8,
     "metadata": {},
     "output_type": "execute_result"
    }
   ],
   "source": [
    "sample['color']"
   ]
  },
  {
   "cell_type": "code",
   "execution_count": 15,
   "metadata": {},
   "outputs": [
    {
     "name": "stdout",
     "output_type": "stream",
     "text": [
      "color -> red\n",
      "fruit -> apple\n",
      "species -> dog\n"
     ]
    }
   ],
   "source": [
    "# Key and value\n",
    "for key in sample:\n",
    "    print(key, '->', sample[key])"
   ]
  },
  {
   "cell_type": "code",
   "execution_count": 17,
   "metadata": {},
   "outputs": [
    {
     "name": "stdout",
     "output_type": "stream",
     "text": [
      "color\n",
      "fruit\n",
      "species\n"
     ]
    }
   ],
   "source": [
    "# Key only\n",
    "for key in sample:\n",
    "    print(key)"
   ]
  },
  {
   "cell_type": "code",
   "execution_count": 19,
   "metadata": {},
   "outputs": [
    {
     "name": "stdout",
     "output_type": "stream",
     "text": [
      "red\n",
      "apple\n",
      "dog\n"
     ]
    }
   ],
   "source": [
    "# Value only\n",
    "for value in sample.values():\n",
    "    print(value)"
   ]
  },
  {
   "cell_type": "code",
   "execution_count": 22,
   "metadata": {},
   "outputs": [
    {
     "name": "stdout",
     "output_type": "stream",
     "text": [
      "('color', 'red')\n",
      "('fruit', 'apple')\n",
      "('species', 'dog')\n"
     ]
    }
   ],
   "source": [
    "# Key and value as tupple\n",
    "for item in sample.items():\n",
    "    print(item)"
   ]
  },
  {
   "cell_type": "markdown",
   "metadata": {},
   "source": [
    "### Mutable variables can't be key in dictionary"
   ]
  },
  {
   "cell_type": "code",
   "execution_count": 11,
   "metadata": {},
   "outputs": [
    {
     "ename": "TypeError",
     "evalue": "unhashable type: 'list'",
     "output_type": "error",
     "traceback": [
      "\u001b[1;31m---------------------------------------------------------------------------\u001b[0m",
      "\u001b[1;31mTypeError\u001b[0m                                 Traceback (most recent call last)",
      "\u001b[1;32m<ipython-input-11-c4c5c82ffaf7>\u001b[0m in \u001b[0;36m<module>\u001b[1;34m\u001b[0m\n\u001b[0;32m      1\u001b[0m \u001b[1;31m#Lists are mutable, therefore unhashable.\u001b[0m\u001b[1;33m\u001b[0m\u001b[1;33m\u001b[0m\u001b[1;33m\u001b[0m\u001b[0m\n\u001b[1;32m----> 2\u001b[1;33m \u001b[0md\u001b[0m \u001b[1;33m=\u001b[0m \u001b[1;33m{\u001b[0m\u001b[1;33m[\u001b[0m\u001b[1;36m1\u001b[0m\u001b[1;33m,\u001b[0m\u001b[1;36m2\u001b[0m\u001b[1;33m,\u001b[0m\u001b[1;36m3\u001b[0m\u001b[1;33m]\u001b[0m\u001b[1;33m:\u001b[0m \u001b[1;34m\"HI!\"\u001b[0m\u001b[1;33m}\u001b[0m\u001b[1;33m\u001b[0m\u001b[1;33m\u001b[0m\u001b[0m\n\u001b[0m",
      "\u001b[1;31mTypeError\u001b[0m: unhashable type: 'list'"
     ]
    }
   ],
   "source": [
    "#Lists are mutable, therefore unhashable. \n",
    "d = {[1,2,3]: \"HI!\"}"
   ]
  },
  {
   "cell_type": "code",
   "execution_count": 12,
   "metadata": {},
   "outputs": [],
   "source": [
    "# Tuples are hashable\n",
    "d = {(1,2,3):5}"
   ]
  },
  {
   "cell_type": "code",
   "execution_count": 13,
   "metadata": {},
   "outputs": [
    {
     "data": {
      "text/plain": [
       "5"
      ]
     },
     "execution_count": 13,
     "metadata": {},
     "output_type": "execute_result"
    }
   ],
   "source": [
    "d[(1,2,3)]"
   ]
  },
  {
   "cell_type": "markdown",
   "metadata": {},
   "source": [
    "### Python holds variables within dictionary"
   ]
  },
  {
   "cell_type": "code",
   "execution_count": 9,
   "metadata": {
    "scrolled": true
   },
   "outputs": [
    {
     "data": {
      "text/plain": [
       "{'__name__': '__main__',\n",
       " '__doc__': 'Automatically created module for IPython interactive environment',\n",
       " '__package__': None,\n",
       " '__loader__': None,\n",
       " '__spec__': None,\n",
       " '__builtin__': <module 'builtins' (built-in)>,\n",
       " '__builtins__': <module 'builtins' (built-in)>,\n",
       " '_ih': ['',\n",
       "  \"my_mappings = {'a':23, 'b':42, 'c':0xc0ffee}\\nmy_mapping\",\n",
       "  \"my_mapping = {'a':23, 'b':42, 'c':0xc0ffee}\\nmy_mapping\",\n",
       "  'import json\\nprint(json.dumps(my_Mapping, indent=4, sort_keys=True))',\n",
       "  'import json\\nprint(json.dumps(my_mapping, indent=4, sort_keys=True))',\n",
       "  '0xc0ffef',\n",
       "  '0xc1ffef',\n",
       "  \"sample = {'color':'red', 'fruit':'apple', 'species':'dog'}\",\n",
       "  \"sample['color']\",\n",
       "  'locals()'],\n",
       " '_oh': {2: {'a': 23, 'b': 42, 'c': 12648430},\n",
       "  5: 12648431,\n",
       "  6: 12713967,\n",
       "  8: 'red'},\n",
       " '_dh': ['C:\\\\Users\\\\batum\\\\OneDrive\\\\Masaüstü\\\\Algorithms\\\\PyTricks'],\n",
       " 'In': ['',\n",
       "  \"my_mappings = {'a':23, 'b':42, 'c':0xc0ffee}\\nmy_mapping\",\n",
       "  \"my_mapping = {'a':23, 'b':42, 'c':0xc0ffee}\\nmy_mapping\",\n",
       "  'import json\\nprint(json.dumps(my_Mapping, indent=4, sort_keys=True))',\n",
       "  'import json\\nprint(json.dumps(my_mapping, indent=4, sort_keys=True))',\n",
       "  '0xc0ffef',\n",
       "  '0xc1ffef',\n",
       "  \"sample = {'color':'red', 'fruit':'apple', 'species':'dog'}\",\n",
       "  \"sample['color']\",\n",
       "  'locals()'],\n",
       " 'Out': {2: {'a': 23, 'b': 42, 'c': 12648430},\n",
       "  5: 12648431,\n",
       "  6: 12713967,\n",
       "  8: 'red'},\n",
       " 'get_ipython': <bound method InteractiveShell.get_ipython of <ipykernel.zmqshell.ZMQInteractiveShell object at 0x000002A8D8692128>>,\n",
       " 'exit': <IPython.core.autocall.ZMQExitAutocall at 0x2a8d8703400>,\n",
       " 'quit': <IPython.core.autocall.ZMQExitAutocall at 0x2a8d8703400>,\n",
       " '_': 'red',\n",
       " '__': 12713967,\n",
       " '___': 12648431,\n",
       " '_i': \"sample['color']\",\n",
       " '_ii': \"sample = {'color':'red', 'fruit':'apple', 'species':'dog'}\",\n",
       " '_iii': '0xc1ffef',\n",
       " '_i1': \"my_mappings = {'a':23, 'b':42, 'c':0xc0ffee}\\nmy_mapping\",\n",
       " 'my_mappings': {'a': 23, 'b': 42, 'c': 12648430},\n",
       " '_i2': \"my_mapping = {'a':23, 'b':42, 'c':0xc0ffee}\\nmy_mapping\",\n",
       " 'my_mapping': {'a': 23, 'b': 42, 'c': 12648430},\n",
       " '_2': {'a': 23, 'b': 42, 'c': 12648430},\n",
       " '_i3': 'import json\\nprint(json.dumps(my_Mapping, indent=4, sort_keys=True))',\n",
       " 'json': <module 'json' from 'C:\\\\Users\\\\batum\\\\AppData\\\\Local\\\\Continuum\\\\anaconda3\\\\lib\\\\json\\\\__init__.py'>,\n",
       " '_i4': 'import json\\nprint(json.dumps(my_mapping, indent=4, sort_keys=True))',\n",
       " '_i5': '0xc0ffef',\n",
       " '_5': 12648431,\n",
       " '_i6': '0xc1ffef',\n",
       " '_6': 12713967,\n",
       " '_i7': \"sample = {'color':'red', 'fruit':'apple', 'species':'dog'}\",\n",
       " 'sample': {'color': 'red', 'fruit': 'apple', 'species': 'dog'},\n",
       " '_i8': \"sample['color']\",\n",
       " '_8': 'red',\n",
       " '_i9': 'locals()'}"
      ]
     },
     "execution_count": 9,
     "metadata": {},
     "output_type": "execute_result"
    }
   ],
   "source": [
    "locals()"
   ]
  }
 ],
 "metadata": {
  "kernelspec": {
   "display_name": "Python 3",
   "language": "python",
   "name": "python3"
  },
  "language_info": {
   "codemirror_mode": {
    "name": "ipython",
    "version": 3
   },
   "file_extension": ".py",
   "mimetype": "text/x-python",
   "name": "python",
   "nbconvert_exporter": "python",
   "pygments_lexer": "ipython3",
   "version": "3.7.3"
  }
 },
 "nbformat": 4,
 "nbformat_minor": 2
}
