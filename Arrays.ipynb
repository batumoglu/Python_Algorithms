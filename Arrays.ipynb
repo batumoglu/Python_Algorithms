{
 "cells": [
  {
   "cell_type": "code",
   "execution_count": 5,
   "metadata": {},
   "outputs": [
    {
     "name": "stdout",
     "output_type": "stream",
     "text": [
      "Length:   0 , Size in bytes:   64\n",
      "Length:   1 , Size in bytes:   96\n",
      "Length:   2 , Size in bytes:   96\n",
      "Length:   3 , Size in bytes:   96\n",
      "Length:   4 , Size in bytes:   96\n",
      "Length:   5 , Size in bytes:  128\n",
      "Length:   6 , Size in bytes:  128\n",
      "Length:   7 , Size in bytes:  128\n",
      "Length:   8 , Size in bytes:  128\n",
      "Length:   9 , Size in bytes:  192\n",
      "Length:  10 , Size in bytes:  192\n",
      "Length:  11 , Size in bytes:  192\n",
      "Length:  12 , Size in bytes:  192\n",
      "Length:  13 , Size in bytes:  192\n",
      "Length:  14 , Size in bytes:  192\n",
      "Length:  15 , Size in bytes:  192\n",
      "Length:  16 , Size in bytes:  192\n",
      "Length:  17 , Size in bytes:  264\n",
      "Length:  18 , Size in bytes:  264\n",
      "Length:  19 , Size in bytes:  264\n"
     ]
    }
   ],
   "source": [
    "import sys\n",
    "\n",
    "n = 10\n",
    "data = []\n",
    "\n",
    "for i in range(20):\n",
    "    a = len(data)\n",
    "    b = sys.getsizeof(data)\n",
    "    print('Length: {0:3d} , Size in bytes: {1:4d}'.format(a,b))\n",
    "    data.append(n)"
   ]
  },
  {
   "cell_type": "markdown",
   "metadata": {},
   "source": [
    "### Dynamic Array"
   ]
  },
  {
   "cell_type": "code",
   "execution_count": 11,
   "metadata": {},
   "outputs": [],
   "source": [
    "import ctypes\n",
    "\n",
    "class DynamicArray(object):\n",
    "    def __init__(self):\n",
    "        self.n = 0\n",
    "        self.capacity = 1\n",
    "        self.A = self.make_array(self.capacity)\n",
    "        \n",
    "    def __len__(self):\n",
    "        return self.n\n",
    "    \n",
    "    def __getitem__(self, k):\n",
    "        if not 0 <= k < self.n:\n",
    "            return IndexError('K is out of bounds!')\n",
    "        \n",
    "        return self.A[k]\n",
    "    \n",
    "    def append(self, ele):\n",
    "        if self.n == self.capacity:\n",
    "            self._resize(2*self.capacity)\n",
    "        \n",
    "        self.A[self.n] = ele\n",
    "        self.n +=1\n",
    "        \n",
    "    def _resize(self, new_cap):\n",
    "        B = self.make_array(new_cap)\n",
    "        \n",
    "        for k in range(self.n):\n",
    "            B[k] = self.A[k]\n",
    "            \n",
    "        self.A = B\n",
    "        self.capacity = new_cap\n",
    "        \n",
    "    def make_array(self, new_cap):\n",
    "        return(new_cap * ctypes.py_object)()"
   ]
  },
  {
   "cell_type": "code",
   "execution_count": 12,
   "metadata": {},
   "outputs": [],
   "source": [
    "arr = DynamicArray()"
   ]
  },
  {
   "cell_type": "code",
   "execution_count": 13,
   "metadata": {},
   "outputs": [],
   "source": [
    "arr.append(1)"
   ]
  },
  {
   "cell_type": "code",
   "execution_count": 14,
   "metadata": {},
   "outputs": [
    {
     "data": {
      "text/plain": [
       "1"
      ]
     },
     "execution_count": 14,
     "metadata": {},
     "output_type": "execute_result"
    }
   ],
   "source": [
    "len(arr)"
   ]
  },
  {
   "cell_type": "code",
   "execution_count": 15,
   "metadata": {},
   "outputs": [],
   "source": [
    "arr.append(2)"
   ]
  },
  {
   "cell_type": "code",
   "execution_count": 17,
   "metadata": {},
   "outputs": [
    {
     "name": "stdout",
     "output_type": "stream",
     "text": [
      "Length:   0 , Size in bytes:   56\n",
      "Length:   1 , Size in bytes:   56\n",
      "Length:   2 , Size in bytes:   56\n",
      "Length:   3 , Size in bytes:   56\n",
      "Length:   4 , Size in bytes:   56\n",
      "Length:   5 , Size in bytes:   56\n",
      "Length:   6 , Size in bytes:   56\n",
      "Length:   7 , Size in bytes:   56\n",
      "Length:   8 , Size in bytes:   56\n",
      "Length:   9 , Size in bytes:   56\n",
      "Length:  10 , Size in bytes:   56\n",
      "Length:  11 , Size in bytes:   56\n",
      "Length:  12 , Size in bytes:   56\n",
      "Length:  13 , Size in bytes:   56\n",
      "Length:  14 , Size in bytes:   56\n",
      "Length:  15 , Size in bytes:   56\n",
      "Length:  16 , Size in bytes:   56\n",
      "Length:  17 , Size in bytes:   56\n",
      "Length:  18 , Size in bytes:   56\n",
      "Length:  19 , Size in bytes:   56\n"
     ]
    }
   ],
   "source": [
    "import sys\n",
    "\n",
    "n = 10\n",
    "data = DynamicArray()\n",
    "\n",
    "for i in range(20):\n",
    "    a = len(data)\n",
    "    b = sys.getsizeof(data)\n",
    "    print('Length: {0:3d} , Size in bytes: {1:4d}'.format(a,b))\n",
    "    data.append(n)"
   ]
  },
  {
   "cell_type": "code",
   "execution_count": 20,
   "metadata": {},
   "outputs": [
    {
     "data": {
      "text/plain": [
       "32"
      ]
     },
     "execution_count": 20,
     "metadata": {},
     "output_type": "execute_result"
    }
   ],
   "source": [
    "data.capacity"
   ]
  }
 ],
 "metadata": {
  "kernelspec": {
   "display_name": "Python 3",
   "language": "python",
   "name": "python3"
  },
  "language_info": {
   "codemirror_mode": {
    "name": "ipython",
    "version": 3
   },
   "file_extension": ".py",
   "mimetype": "text/x-python",
   "name": "python",
   "nbconvert_exporter": "python",
   "pygments_lexer": "ipython3",
   "version": "3.7.3"
  }
 },
 "nbformat": 4,
 "nbformat_minor": 2
}
